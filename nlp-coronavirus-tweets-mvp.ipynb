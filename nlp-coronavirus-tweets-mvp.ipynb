{
 "cells": [
  {
   "cell_type": "markdown",
   "id": "74975ac3",
   "metadata": {},
   "source": [
    "#### NLP | MVP\n",
    "\n",
    "# Coronavirus Tweets: Spring 2020<a id='top'></a> "
   ]
  },
  {
   "cell_type": "markdown",
   "id": "ea017a0f",
   "metadata": {},
   "source": [
    "# \n",
    "\n",
    "## **Analysis Goal**  \n",
    "The client, [name](link), ...\n",
    "wants to ... and \n",
    "requested a model to find a pattern ... in tweets in April. \n",
    "\n",
    "Impetus?\n",
    "\n",
    "**RQ:** ....?\n",
    "\n",
    "## **Process**\n",
    "**Data source:** \n",
    "Coronavirus COVID-19 Tweets [early](https://www.kaggle.com/datasets/smid80/coronavirus-covid19-tweets-early-april) and [late](https://www.kaggle.com/datasets/smid80/coronavirus-covid19-tweets-late-april) April\n",
    "\n",
    "\n",
    "**Models:** \n",
    "* [name] model, fit a [model name](#??):\n",
    "    * eval metric\n",
    "* [name] model, fit a [model name](#??):\n",
    "    * eval metric\n",
    "\n",
    "\n",
    "## **Preliminary Visualizations**\n",
    "[Figure 1. Name](#??)<br/>\n",
    "[Figure 1. Name](#??)<br/>\n",
    "\n",
    "## **Preliminary Conclusions**\n",
    "The [name] model ... showed....<br/>\n",
    "\n",
    "The next step .... "
   ]
  },
  {
   "cell_type": "code",
   "execution_count": 1,
   "id": "64179b94",
   "metadata": {},
   "outputs": [],
   "source": [
    "import pandas as pd\n",
    "import glob \n",
    "pd.set_option('display.max_colwidth', None)\n"
   ]
  },
  {
   "cell_type": "markdown",
   "id": "1b9087d4",
   "metadata": {},
   "source": [
    "## 1 | Dataset: Coronavirus Tweets ([early](https://www.kaggle.com/datasets/smid80/coronavirus-covid19-tweets-early-april) and [late](https://www.kaggle.com/datasets/smid80/coronavirus-covid19-tweets-late-april) April) <a id='1'></a>  "
   ]
  },
  {
   "cell_type": "code",
   "execution_count": 16,
   "id": "c01c03ce",
   "metadata": {},
   "outputs": [],
   "source": [
    "# import one csv file to see data\n",
    "single_df = pd.read_csv('20200401.csv')"
   ]
  },
  {
   "cell_type": "code",
   "execution_count": 22,
   "id": "6175aedd",
   "metadata": {},
   "outputs": [
    {
     "data": {
      "text/html": [
       "<div>\n",
       "<style scoped>\n",
       "    .dataframe tbody tr th:only-of-type {\n",
       "        vertical-align: middle;\n",
       "    }\n",
       "\n",
       "    .dataframe tbody tr th {\n",
       "        vertical-align: top;\n",
       "    }\n",
       "\n",
       "    .dataframe thead th {\n",
       "        text-align: right;\n",
       "    }\n",
       "</style>\n",
       "<table border=\"1\" class=\"dataframe\">\n",
       "  <thead>\n",
       "    <tr style=\"text-align: right;\">\n",
       "      <th></th>\n",
       "      <th>status_id</th>\n",
       "      <th>user_id</th>\n",
       "      <th>created_at</th>\n",
       "      <th>screen_name</th>\n",
       "      <th>text</th>\n",
       "      <th>source</th>\n",
       "      <th>reply_to_status_id</th>\n",
       "      <th>reply_to_user_id</th>\n",
       "      <th>reply_to_screen_name</th>\n",
       "      <th>is_quote</th>\n",
       "      <th>...</th>\n",
       "      <th>retweet_count</th>\n",
       "      <th>country_code</th>\n",
       "      <th>place_full_name</th>\n",
       "      <th>place_type</th>\n",
       "      <th>followers_count</th>\n",
       "      <th>friends_count</th>\n",
       "      <th>account_lang</th>\n",
       "      <th>account_created_at</th>\n",
       "      <th>verified</th>\n",
       "      <th>lang</th>\n",
       "    </tr>\n",
       "  </thead>\n",
       "  <tbody>\n",
       "    <tr>\n",
       "      <th>0</th>\n",
       "      <td>1245138808619724800</td>\n",
       "      <td>2722502906</td>\n",
       "      <td>2020-04-01T00:00:00Z</td>\n",
       "      <td>GradaNorteMX</td>\n",
       "      <td>Cuando mejor iban las cosas en el circuito de tenis universitario de Estados Unidos, el #sonorense Alán Rubio volvió a Hermosillo ante la pandemia del #COVID_19 😕🇲🇽🇺🇸\\n\\n🎾 https://t.co/SldPvrP81A https://t.co/K7BVA6LV94</td>\n",
       "      <td>TweetDeck</td>\n",
       "      <td>NaN</td>\n",
       "      <td>NaN</td>\n",
       "      <td>NaN</td>\n",
       "      <td>False</td>\n",
       "      <td>...</td>\n",
       "      <td>0</td>\n",
       "      <td>NaN</td>\n",
       "      <td>NaN</td>\n",
       "      <td>NaN</td>\n",
       "      <td>1847</td>\n",
       "      <td>252</td>\n",
       "      <td>NaN</td>\n",
       "      <td>2014-08-10T21:20:32Z</td>\n",
       "      <td>False</td>\n",
       "      <td>es</td>\n",
       "    </tr>\n",
       "    <tr>\n",
       "      <th>1</th>\n",
       "      <td>1245138810071142405</td>\n",
       "      <td>817072420947247104</td>\n",
       "      <td>2020-04-01T00:00:00Z</td>\n",
       "      <td>Tu_IMSS_Coah</td>\n",
       "      <td>El #Coronavirus se transmite de una persona infectada a otras a través de gotitas de saliva, acata las reglas de etiqueta | #EnfermedadesRespiratorias   #PrevenciónCoronavirus \\n#QuédateEnCasa #COVID19 #SanaDistancia\\n#MéxicoUnido   #IMSSolidario https://t.co/3F3rGiXjQm</td>\n",
       "      <td>TweetDeck</td>\n",
       "      <td>NaN</td>\n",
       "      <td>NaN</td>\n",
       "      <td>NaN</td>\n",
       "      <td>False</td>\n",
       "      <td>...</td>\n",
       "      <td>2</td>\n",
       "      <td>NaN</td>\n",
       "      <td>NaN</td>\n",
       "      <td>NaN</td>\n",
       "      <td>1576</td>\n",
       "      <td>169</td>\n",
       "      <td>NaN</td>\n",
       "      <td>2017-01-05T18:17:00Z</td>\n",
       "      <td>False</td>\n",
       "      <td>es</td>\n",
       "    </tr>\n",
       "  </tbody>\n",
       "</table>\n",
       "<p>2 rows × 22 columns</p>\n",
       "</div>"
      ],
      "text/plain": [
       "             status_id             user_id            created_at  \\\n",
       "0  1245138808619724800          2722502906  2020-04-01T00:00:00Z   \n",
       "1  1245138810071142405  817072420947247104  2020-04-01T00:00:00Z   \n",
       "\n",
       "    screen_name  \\\n",
       "0  GradaNorteMX   \n",
       "1  Tu_IMSS_Coah   \n",
       "\n",
       "                                                                                                                                                                                                                                                                             text  \\\n",
       "0                                                     Cuando mejor iban las cosas en el circuito de tenis universitario de Estados Unidos, el #sonorense Alán Rubio volvió a Hermosillo ante la pandemia del #COVID_19 😕🇲🇽🇺🇸\\n\\n🎾 https://t.co/SldPvrP81A https://t.co/K7BVA6LV94   \n",
       "1  El #Coronavirus se transmite de una persona infectada a otras a través de gotitas de saliva, acata las reglas de etiqueta | #EnfermedadesRespiratorias   #PrevenciónCoronavirus \\n#QuédateEnCasa #COVID19 #SanaDistancia\\n#MéxicoUnido   #IMSSolidario https://t.co/3F3rGiXjQm   \n",
       "\n",
       "      source  reply_to_status_id  reply_to_user_id reply_to_screen_name  \\\n",
       "0  TweetDeck                 NaN               NaN                  NaN   \n",
       "1  TweetDeck                 NaN               NaN                  NaN   \n",
       "\n",
       "   is_quote  ...  retweet_count  country_code  place_full_name place_type  \\\n",
       "0     False  ...              0           NaN              NaN        NaN   \n",
       "1     False  ...              2           NaN              NaN        NaN   \n",
       "\n",
       "  followers_count friends_count  account_lang    account_created_at  verified  \\\n",
       "0            1847           252           NaN  2014-08-10T21:20:32Z     False   \n",
       "1            1576           169           NaN  2017-01-05T18:17:00Z     False   \n",
       "\n",
       "  lang  \n",
       "0   es  \n",
       "1   es  \n",
       "\n",
       "[2 rows x 22 columns]"
      ]
     },
     "execution_count": 22,
     "metadata": {},
     "output_type": "execute_result"
    }
   ],
   "source": [
    "single_df.head(2)"
   ]
  },
  {
   "cell_type": "code",
   "execution_count": 21,
   "id": "216d9dda",
   "metadata": {},
   "outputs": [
    {
     "name": "stdout",
     "output_type": "stream",
     "text": [
      "<class 'pandas.core.frame.DataFrame'>\n",
      "RangeIndex: 591480 entries, 0 to 591479\n",
      "Data columns (total 22 columns):\n",
      " #   Column                Non-Null Count   Dtype  \n",
      "---  ------                --------------   -----  \n",
      " 0   status_id             591480 non-null  int64  \n",
      " 1   user_id               591480 non-null  int64  \n",
      " 2   created_at            591480 non-null  object \n",
      " 3   screen_name           591480 non-null  object \n",
      " 4   text                  591480 non-null  object \n",
      " 5   source                591478 non-null  object \n",
      " 6   reply_to_status_id    69502 non-null   float64\n",
      " 7   reply_to_user_id      84914 non-null   float64\n",
      " 8   reply_to_screen_name  84914 non-null   object \n",
      " 9   is_quote              591480 non-null  bool   \n",
      " 10  is_retweet            591480 non-null  bool   \n",
      " 11  favourites_count      591480 non-null  int64  \n",
      " 12  retweet_count         591480 non-null  int64  \n",
      " 13  country_code          26040 non-null   object \n",
      " 14  place_full_name       26116 non-null   object \n",
      " 15  place_type            26116 non-null   object \n",
      " 16  followers_count       591480 non-null  int64  \n",
      " 17  friends_count         591480 non-null  int64  \n",
      " 18  account_lang          0 non-null       float64\n",
      " 19  account_created_at    591480 non-null  object \n",
      " 20  verified              591480 non-null  bool   \n",
      " 21  lang                  591480 non-null  object \n",
      "dtypes: bool(3), float64(3), int64(6), object(10)\n",
      "memory usage: 87.4+ MB\n"
     ]
    }
   ],
   "source": [
    "single_df.info()"
   ]
  },
  {
   "cell_type": "code",
   "execution_count": 24,
   "id": "d5e0806c",
   "metadata": {},
   "outputs": [],
   "source": [
    "# keep only the following 7 columns on full data import \n",
    "\n",
    " 2   created_at            591480 non-null  object \n",
    " 3   screen_name           591480 non-null  object \n",
    " 4   text                  591480 non-null  object \n",
    " 13  country_code          26040 non-null   object \n",
    " 18  account_lang          0 non-null       float64\n",
    " 20  verified              591480 non-null  bool   \n",
    " 21  lang                  591480 non-null  object "
   ]
  },
  {
   "cell_type": "code",
   "execution_count": 4,
   "id": "9f7e56c8",
   "metadata": {},
   "outputs": [],
   "source": [
    "# read list of April 2020 files, while ommitting columns above\n",
    "\n",
    "path = r'/Users/sandraparedes/Documents/GitHub/metis_dsml/05_nlp/g00-nlp-project/data' \n",
    "all_files = glob.glob(path + \"/*.csv\")\n",
    "\n",
    "li = []\n",
    "\n",
    "for filename in all_files:\n",
    "    df = pd.read_csv(filename, index_col=None, header=0, usecols=[2,3,4,13,18,20,21])\n",
    "    li.append(df)\n",
    "df = pd.concat(li, axis=0, ignore_index=True)\n"
   ]
  },
  {
   "cell_type": "code",
   "execution_count": 11,
   "id": "af40dc48",
   "metadata": {},
   "outputs": [
    {
     "data": {
      "text/html": [
       "<div>\n",
       "<style scoped>\n",
       "    .dataframe tbody tr th:only-of-type {\n",
       "        vertical-align: middle;\n",
       "    }\n",
       "\n",
       "    .dataframe tbody tr th {\n",
       "        vertical-align: top;\n",
       "    }\n",
       "\n",
       "    .dataframe thead th {\n",
       "        text-align: right;\n",
       "    }\n",
       "</style>\n",
       "<table border=\"1\" class=\"dataframe\">\n",
       "  <thead>\n",
       "    <tr style=\"text-align: right;\">\n",
       "      <th></th>\n",
       "      <th>created_at</th>\n",
       "      <th>screen_name</th>\n",
       "      <th>text</th>\n",
       "      <th>country_code</th>\n",
       "      <th>account_lang</th>\n",
       "      <th>verified</th>\n",
       "      <th>lang</th>\n",
       "    </tr>\n",
       "  </thead>\n",
       "  <tbody>\n",
       "    <tr>\n",
       "      <th>0</th>\n",
       "      <td>2020-04-06T00:00:00Z</td>\n",
       "      <td>EricSchneiderMD</td>\n",
       "      <td>The Pearl Harbor metaphor for #Covid_19 is an odd choice. Pearl Harbor was the start of 3 years of US mobilizing after trying to stay out of WWII.</td>\n",
       "      <td>NaN</td>\n",
       "      <td>NaN</td>\n",
       "      <td>False</td>\n",
       "      <td>en</td>\n",
       "    </tr>\n",
       "    <tr>\n",
       "      <th>1</th>\n",
       "      <td>2020-04-06T00:00:00Z</td>\n",
       "      <td>kubofinanciero</td>\n",
       "      <td>🟩 Para nosotros cada celular o computadora es una sucursal de kubo.financiero. Inicia un plan de inversión o pide un préstamo desde tu casa  #ConectemosAúnMás 👉 https://t.co/p3eaYnigMZ #kubofinanciero #kubo #fintech #COVID19 https://t.co/xdIvsvXL5x</td>\n",
       "      <td>NaN</td>\n",
       "      <td>NaN</td>\n",
       "      <td>False</td>\n",
       "      <td>es</td>\n",
       "    </tr>\n",
       "    <tr>\n",
       "      <th>2</th>\n",
       "      <td>2020-04-06T00:00:00Z</td>\n",
       "      <td>CorpoelecAragu2</td>\n",
       "      <td>|| Paso a paso en centros de salud públicos y privados || #Covid19 #QuédateEnCasa https://t.co/AFxAtqXlEX</td>\n",
       "      <td>NaN</td>\n",
       "      <td>NaN</td>\n",
       "      <td>False</td>\n",
       "      <td>es</td>\n",
       "    </tr>\n",
       "    <tr>\n",
       "      <th>3</th>\n",
       "      <td>2020-04-06T00:00:00Z</td>\n",
       "      <td>Jaime_BonillaV</td>\n",
       "      <td>Porque #EnBCNosCuidamosTodos, con la responsabilidad de nuestras acciones de distanciamiento social vamos a vencer al Covid-19.\\n\\n#EnBCNosCuidamosTodos #Coronavirus #COVID19 #CoronavirusBC #COVID19BC #QuédateEnCasa https://t.co/o9A2vdWldZ</td>\n",
       "      <td>NaN</td>\n",
       "      <td>NaN</td>\n",
       "      <td>True</td>\n",
       "      <td>es</td>\n",
       "    </tr>\n",
       "    <tr>\n",
       "      <th>4</th>\n",
       "      <td>2020-04-06T00:00:00Z</td>\n",
       "      <td>GobCDMX</td>\n",
       "      <td>¿En tu casa hay personas adultas mayores, personas con discapacidad, mujeres embarazadas, niñas o niños?\\n\\nSigue estas recomendaciones para evitar accidentes durante esta emergencia sanitaria por #COVID19.\\n\\n#QuédateEnCasaYa 🏡 #QuédateEnCasaCDMX https://t.co/WTMpoE6QPD</td>\n",
       "      <td>NaN</td>\n",
       "      <td>NaN</td>\n",
       "      <td>True</td>\n",
       "      <td>es</td>\n",
       "    </tr>\n",
       "  </tbody>\n",
       "</table>\n",
       "</div>"
      ],
      "text/plain": [
       "             created_at      screen_name  \\\n",
       "0  2020-04-06T00:00:00Z  EricSchneiderMD   \n",
       "1  2020-04-06T00:00:00Z   kubofinanciero   \n",
       "2  2020-04-06T00:00:00Z  CorpoelecAragu2   \n",
       "3  2020-04-06T00:00:00Z   Jaime_BonillaV   \n",
       "4  2020-04-06T00:00:00Z          GobCDMX   \n",
       "\n",
       "                                                                                                                                                                                                                                                                              text  \\\n",
       "0                                                                                                                               The Pearl Harbor metaphor for #Covid_19 is an odd choice. Pearl Harbor was the start of 3 years of US mobilizing after trying to stay out of WWII.   \n",
       "1                         🟩 Para nosotros cada celular o computadora es una sucursal de kubo.financiero. Inicia un plan de inversión o pide un préstamo desde tu casa  #ConectemosAúnMás 👉 https://t.co/p3eaYnigMZ #kubofinanciero #kubo #fintech #COVID19 https://t.co/xdIvsvXL5x   \n",
       "2                                                                                                                                                                        || Paso a paso en centros de salud públicos y privados || #Covid19 #QuédateEnCasa https://t.co/AFxAtqXlEX   \n",
       "3                                  Porque #EnBCNosCuidamosTodos, con la responsabilidad de nuestras acciones de distanciamiento social vamos a vencer al Covid-19.\\n\\n#EnBCNosCuidamosTodos #Coronavirus #COVID19 #CoronavirusBC #COVID19BC #QuédateEnCasa https://t.co/o9A2vdWldZ   \n",
       "4  ¿En tu casa hay personas adultas mayores, personas con discapacidad, mujeres embarazadas, niñas o niños?\\n\\nSigue estas recomendaciones para evitar accidentes durante esta emergencia sanitaria por #COVID19.\\n\\n#QuédateEnCasaYa 🏡 #QuédateEnCasaCDMX https://t.co/WTMpoE6QPD   \n",
       "\n",
       "  country_code  account_lang  verified lang  \n",
       "0          NaN           NaN     False   en  \n",
       "1          NaN           NaN     False   es  \n",
       "2          NaN           NaN     False   es  \n",
       "3          NaN           NaN      True   es  \n",
       "4          NaN           NaN      True   es  "
      ]
     },
     "execution_count": 11,
     "metadata": {},
     "output_type": "execute_result"
    }
   ],
   "source": [
    "df.head()"
   ]
  },
  {
   "cell_type": "code",
   "execution_count": 12,
   "id": "3795948c",
   "metadata": {},
   "outputs": [
    {
     "name": "stdout",
     "output_type": "stream",
     "text": [
      "<class 'pandas.core.frame.DataFrame'>\n",
      "RangeIndex: 12786782 entries, 0 to 12786781\n",
      "Data columns (total 7 columns):\n",
      " #   Column        Dtype  \n",
      "---  ------        -----  \n",
      " 0   created_at    object \n",
      " 1   screen_name   object \n",
      " 2   text          object \n",
      " 3   country_code  object \n",
      " 4   account_lang  float64\n",
      " 5   verified      bool   \n",
      " 6   lang          object \n",
      "dtypes: bool(1), float64(1), object(5)\n",
      "memory usage: 597.5+ MB\n"
     ]
    }
   ],
   "source": [
    "df.info()"
   ]
  },
  {
   "cell_type": "markdown",
   "id": "7e9cfb56",
   "metadata": {},
   "source": [
    "## 2 | Exploratory Data Analysis<a id='2'></a>  "
   ]
  },
  {
   "cell_type": "code",
   "execution_count": 25,
   "id": "2dd528ba",
   "metadata": {},
   "outputs": [
    {
     "name": "stdout",
     "output_type": "stream",
     "text": [
      "<class 'pandas.core.frame.DataFrame'>\n",
      "RangeIndex: 12786782 entries, 0 to 12786781\n",
      "Data columns (total 7 columns):\n",
      " #   Column        Dtype  \n",
      "---  ------        -----  \n",
      " 0   created_at    object \n",
      " 1   screen_name   object \n",
      " 2   text          object \n",
      " 3   country_code  object \n",
      " 4   account_lang  float64\n",
      " 5   verified      bool   \n",
      " 6   lang          object \n",
      "dtypes: bool(1), float64(1), object(5)\n",
      "memory usage: 597.5+ MB\n"
     ]
    }
   ],
   "source": [
    "df.info()"
   ]
  },
  {
   "cell_type": "code",
   "execution_count": 26,
   "id": "2713f950",
   "metadata": {},
   "outputs": [
    {
     "data": {
      "text/plain": [
       "array([nan, 'ZA', 'US', 'PT', 'PK', 'IN', 'BR', 'IT', 'TR', 'MX', 'BE',\n",
       "       'GB', 'LK', 'DE', 'GT', 'TH', 'CL', 'DO', 'UY', 'AR', 'CA', 'SV',\n",
       "       'CU', 'JP', 'CO', 'NG', 'ES', 'PY', 'PH', 'SA', 'KE', 'NZ', 'PA',\n",
       "       'MY', 'JO', 'RS', 'AU', 'EC', 'HN', 'PL', 'SG', 'VE', 'PE', 'TT',\n",
       "       'NI', 'CN', 'OM', 'MV', 'ID', 'JM', 'IE', 'GH', 'LV', 'KH', 'BO',\n",
       "       'IL', 'NL', 'SN', 'GU', 'TW', 'NP', 'FJ', 'PF', 'UG', 'VN', 'BN',\n",
       "       'LY', 'IR', 'CD', 'HK', 'BD', 'GN', 'FR', 'DK', 'CR', 'AE', 'HT',\n",
       "       'HU', 'RU', 'KR', 'CH', 'IQ', 'TL', 'BH', 'PG', 'KZ', 'MA', 'KW',\n",
       "       'PR', 'SE', 'GR', 'AT', 'SZ', 'FI', 'RW', 'QA', 'GE', 'NO', 'CM',\n",
       "       'ET', 'MQ', 'BS', 'SC', 'LC', 'CZ', 'TZ', 'LB', 'MZ', 'EG', 'UA',\n",
       "       'SO', 'ZW', 'CY', 'SL', 'MU', 'SY', 'BA', 'NC', 'BJ', 'RE', 'GP',\n",
       "       'CG', 'GG', 'AF', 'LS', 'ZM', 'BW', 'AZ', 'AO', 'MW', 'ME', 'RO',\n",
       "       'MT', 'HR', 'IS', 'SR', 'MN', 'AD', 'CI', 'IM', 'BY', 'DZ', 'BI',\n",
       "       'MC', 'GQ', 'TG', 'AL', 'GI', 'ML', 'TN', 'MM', 'TD', 'XK', 'SI',\n",
       "       'LT', 'DJ', 'GM', 'SK', 'KG', 'NE', 'DM', 'BT', 'VA', 'BF', 'GF',\n",
       "       'LU', 'EE', 'GW', 'SX', 'BM', 'MR', 'CW', 'BG', 'GA', 'BB', 'LI',\n",
       "       'AM', 'GY', 'KY', 'KN', 'BQ', 'AG', 'YE', 'KP', 'MG', 'GL', 'MK',\n",
       "       'JE', 'SM', 'AS', 'MP', 'PM', 'LR', 'SB', 'MD', 'MF', 'VI', 'UZ',\n",
       "       'YT', 'VU', 'LA', 'BZ', 'TJ', 'CV', 'SD', 'VG', 'VC', 'MO', 'FK',\n",
       "       'UM', 'GD', 'AW', 'FO', 'TO', 'CF', 'TC', 'TM', 'PW', 'AX', 'BL',\n",
       "       'WS', 'AQ', 'MH'], dtype=object)"
      ]
     },
     "execution_count": 26,
     "metadata": {},
     "output_type": "execute_result"
    }
   ],
   "source": [
    "df['country_code'].unique()"
   ]
  },
  {
   "cell_type": "code",
   "execution_count": 27,
   "id": "bdcb4811",
   "metadata": {},
   "outputs": [
    {
     "data": {
      "text/plain": [
       "array(['en', 'es', 'in', 'th', 'und', 'pt', 'tl', 'ar', 'it', 'uk', 'ca',\n",
       "       'hu', 'fr', 'ja', 'ko', 'el', 'tr', 'fi', 'de', 'ru', 'lt', 'zh',\n",
       "       'eu', 'fa', 'nl', 'ur', 'bn', 'sv', 'hi', 'ro', 'ht', 'ckb', 'vi',\n",
       "       'pl', 'sl', 'ta', 'ne', 'et', 'cy', 'da', 'si', 'ps', 'lv', 'cs',\n",
       "       'iw', 'mr', 'ml', 'kn', 'te', 'no', 'or', 'gu', 'pa', 'am', 'lo',\n",
       "       'dv', 'sr', 'is', 'ka', 'sd', 'bg', 'my', 'hy', 'km', 'bo', 'ug'],\n",
       "      dtype=object)"
      ]
     },
     "execution_count": 27,
     "metadata": {},
     "output_type": "execute_result"
    }
   ],
   "source": [
    "df['lang'].unique()"
   ]
  },
  {
   "cell_type": "code",
   "execution_count": 28,
   "id": "454cdc37",
   "metadata": {},
   "outputs": [
    {
     "name": "stdout",
     "output_type": "stream",
     "text": [
      "English entries: 7128121\n"
     ]
    }
   ],
   "source": [
    "print('English entries:', (df[df[\"lang\"] == 'en'].count())['lang'])"
   ]
  },
  {
   "cell_type": "code",
   "execution_count": 29,
   "id": "d1d1b4b7",
   "metadata": {},
   "outputs": [
    {
     "name": "stdout",
     "output_type": "stream",
     "text": [
      "US entries: 153660\n"
     ]
    }
   ],
   "source": [
    "print('US entries:', (df[df[\"country_code\"] == 'US'].count())['country_code'])"
   ]
  },
  {
   "cell_type": "code",
   "execution_count": 30,
   "id": "335c9b0f",
   "metadata": {},
   "outputs": [
    {
     "name": "stdout",
     "output_type": "stream",
     "text": [
      "<class 'pandas.core.frame.DataFrame'>\n",
      "Int64Index: 138789 entries, 141 to 12786770\n",
      "Data columns (total 7 columns):\n",
      " #   Column        Non-Null Count   Dtype  \n",
      "---  ------        --------------   -----  \n",
      " 0   created_at    138789 non-null  object \n",
      " 1   screen_name   138788 non-null  object \n",
      " 2   text          138789 non-null  object \n",
      " 3   country_code  138789 non-null  object \n",
      " 4   account_lang  0 non-null       float64\n",
      " 5   verified      138789 non-null  bool   \n",
      " 6   lang          138789 non-null  object \n",
      "dtypes: bool(1), float64(1), object(5)\n",
      "memory usage: 7.5+ MB\n"
     ]
    }
   ],
   "source": [
    "eng_us_df = df[(df['country_code'] == 'US') &\n",
    "               (df['lang'] == 'en')]\n",
    "eng_us_df.info()\n"
   ]
  },
  {
   "cell_type": "markdown",
   "id": "a19d83d4",
   "metadata": {},
   "source": [
    "### English + US df: 138,789 entries"
   ]
  },
  {
   "cell_type": "code",
   "execution_count": 31,
   "id": "93e3d989",
   "metadata": {},
   "outputs": [
    {
     "data": {
      "text/html": [
       "<div>\n",
       "<style scoped>\n",
       "    .dataframe tbody tr th:only-of-type {\n",
       "        vertical-align: middle;\n",
       "    }\n",
       "\n",
       "    .dataframe tbody tr th {\n",
       "        vertical-align: top;\n",
       "    }\n",
       "\n",
       "    .dataframe thead th {\n",
       "        text-align: right;\n",
       "    }\n",
       "</style>\n",
       "<table border=\"1\" class=\"dataframe\">\n",
       "  <thead>\n",
       "    <tr style=\"text-align: right;\">\n",
       "      <th></th>\n",
       "      <th>created_at</th>\n",
       "      <th>screen_name</th>\n",
       "      <th>text</th>\n",
       "      <th>country_code</th>\n",
       "      <th>account_lang</th>\n",
       "      <th>verified</th>\n",
       "      <th>lang</th>\n",
       "    </tr>\n",
       "  </thead>\n",
       "  <tbody>\n",
       "    <tr>\n",
       "      <th>141</th>\n",
       "      <td>2020-04-06T00:00:05Z</td>\n",
       "      <td>WFMGINC</td>\n",
       "      <td>....#SUNDAYFUNDAY #coronavirus style #vino cheers 🍷 https://t.co/SrymChBkq2</td>\n",
       "      <td>US</td>\n",
       "      <td>NaN</td>\n",
       "      <td>False</td>\n",
       "      <td>en</td>\n",
       "    </tr>\n",
       "    <tr>\n",
       "      <th>234</th>\n",
       "      <td>2020-04-06T00:00:14Z</td>\n",
       "      <td>jpomietlasz</td>\n",
       "      <td>This pandemic has confirmed my worst fears, most people don’t know how to make entertaining videos. #Covid_19 #SinceIveBeenQuarantined #AmericasUnfunniestVideos #WrestleMania #tonyaharding</td>\n",
       "      <td>US</td>\n",
       "      <td>NaN</td>\n",
       "      <td>False</td>\n",
       "      <td>en</td>\n",
       "    </tr>\n",
       "    <tr>\n",
       "      <th>263</th>\n",
       "      <td>2020-04-06T00:00:17Z</td>\n",
       "      <td>harold0719</td>\n",
       "      <td>Is this true? \\nhttps://t.co/Xj2zdFe7ab\\n#EcuadorEnEmergencia #Covid_19 #CoronavirusPandemic</td>\n",
       "      <td>US</td>\n",
       "      <td>NaN</td>\n",
       "      <td>False</td>\n",
       "      <td>en</td>\n",
       "    </tr>\n",
       "    <tr>\n",
       "      <th>273</th>\n",
       "      <td>2020-04-06T00:00:18Z</td>\n",
       "      <td>uche_blackstock</td>\n",
       "      <td>Many us thought it was Wuhan province, but it could never be us. Then it was Italy, but it could never be us. Now it is here. One #NewYorker died every 12 minutes from #COVID19 over this weekend. Absolutely devastating.\\n\\nhttps://t.co/h5woMTfSCH</td>\n",
       "      <td>US</td>\n",
       "      <td>NaN</td>\n",
       "      <td>True</td>\n",
       "      <td>en</td>\n",
       "    </tr>\n",
       "    <tr>\n",
       "      <th>276</th>\n",
       "      <td>2020-04-06T00:00:18Z</td>\n",
       "      <td>BrentALang</td>\n",
       "      <td>Ah #coronavirus humor https://t.co/1yXAZXNIgz</td>\n",
       "      <td>US</td>\n",
       "      <td>NaN</td>\n",
       "      <td>True</td>\n",
       "      <td>en</td>\n",
       "    </tr>\n",
       "    <tr>\n",
       "      <th>278</th>\n",
       "      <td>2020-04-06T00:00:18Z</td>\n",
       "      <td>grantstern</td>\n",
       "      <td>Miami and South Florida in general are also staying home.\\n\\nNorth Florida thinks their immune to #COVID19. https://t.co/OiPfVqyMvC</td>\n",
       "      <td>US</td>\n",
       "      <td>NaN</td>\n",
       "      <td>True</td>\n",
       "      <td>en</td>\n",
       "    </tr>\n",
       "    <tr>\n",
       "      <th>290</th>\n",
       "      <td>2020-04-06T00:00:20Z</td>\n",
       "      <td>Thom_Cordeiro</td>\n",
       "      <td>How can President Trump be flip about a question about continuity of power and contracting the #coronavirus? “When I am around him I don’t breathe”? And we wonder why other Americans question and defy the quarantine. #CoronavirusTaskForce</td>\n",
       "      <td>US</td>\n",
       "      <td>NaN</td>\n",
       "      <td>False</td>\n",
       "      <td>en</td>\n",
       "    </tr>\n",
       "    <tr>\n",
       "      <th>322</th>\n",
       "      <td>2020-04-06T00:00:24Z</td>\n",
       "      <td>shelbalynn17</td>\n",
       "      <td>This is our most desperate hour. Help us, Obi-Wan Kenobi. You're our only hope. #Covid_19 #StarWars #weneedaleader</td>\n",
       "      <td>US</td>\n",
       "      <td>NaN</td>\n",
       "      <td>False</td>\n",
       "      <td>en</td>\n",
       "    </tr>\n",
       "    <tr>\n",
       "      <th>329</th>\n",
       "      <td>2020-04-06T00:00:25Z</td>\n",
       "      <td>LheimIndustries</td>\n",
       "      <td>Face your fears....\\n#business #love #coronavirus #covid19 #nyc #ny #la #California #zoom #happy #prayer https://t.co/idDV3bpkUr</td>\n",
       "      <td>US</td>\n",
       "      <td>NaN</td>\n",
       "      <td>False</td>\n",
       "      <td>en</td>\n",
       "    </tr>\n",
       "    <tr>\n",
       "      <th>340</th>\n",
       "      <td>2020-04-06T00:00:28Z</td>\n",
       "      <td>Elliot_Fuchs</td>\n",
       "      <td>First Defense Nasal Screen coming up on @ABCSharkTank during the #Covid_19 outbreak and all of a sudden the guy doesn’t seem crazy.\\n\\nSharks redeemed themselves w/ mega-offers.\\n\\nPost Corona-airing, @mcuban @TheSharkDaymond @kevinolearytv is gonna make a killing. Replaces mask-need</td>\n",
       "      <td>US</td>\n",
       "      <td>NaN</td>\n",
       "      <td>False</td>\n",
       "      <td>en</td>\n",
       "    </tr>\n",
       "  </tbody>\n",
       "</table>\n",
       "</div>"
      ],
      "text/plain": [
       "               created_at      screen_name  \\\n",
       "141  2020-04-06T00:00:05Z          WFMGINC   \n",
       "234  2020-04-06T00:00:14Z      jpomietlasz   \n",
       "263  2020-04-06T00:00:17Z       harold0719   \n",
       "273  2020-04-06T00:00:18Z  uche_blackstock   \n",
       "276  2020-04-06T00:00:18Z       BrentALang   \n",
       "278  2020-04-06T00:00:18Z       grantstern   \n",
       "290  2020-04-06T00:00:20Z    Thom_Cordeiro   \n",
       "322  2020-04-06T00:00:24Z     shelbalynn17   \n",
       "329  2020-04-06T00:00:25Z  LheimIndustries   \n",
       "340  2020-04-06T00:00:28Z     Elliot_Fuchs   \n",
       "\n",
       "                                                                                                                                                                                                                                                                                             text  \\\n",
       "141                                                                                                                                                                                                                   ....#SUNDAYFUNDAY #coronavirus style #vino cheers 🍷 https://t.co/SrymChBkq2   \n",
       "234                                                                                                  This pandemic has confirmed my worst fears, most people don’t know how to make entertaining videos. #Covid_19 #SinceIveBeenQuarantined #AmericasUnfunniestVideos #WrestleMania #tonyaharding   \n",
       "263                                                                                                                                                                                                  Is this true? \\nhttps://t.co/Xj2zdFe7ab\\n#EcuadorEnEmergencia #Covid_19 #CoronavirusPandemic   \n",
       "273                                        Many us thought it was Wuhan province, but it could never be us. Then it was Italy, but it could never be us. Now it is here. One #NewYorker died every 12 minutes from #COVID19 over this weekend. Absolutely devastating.\\n\\nhttps://t.co/h5woMTfSCH   \n",
       "276                                                                                                                                                                                                                                                 Ah #coronavirus humor https://t.co/1yXAZXNIgz   \n",
       "278                                                                                                                                                           Miami and South Florida in general are also staying home.\\n\\nNorth Florida thinks their immune to #COVID19. https://t.co/OiPfVqyMvC   \n",
       "290                                                How can President Trump be flip about a question about continuity of power and contracting the #coronavirus? “When I am around him I don’t breathe”? And we wonder why other Americans question and defy the quarantine. #CoronavirusTaskForce   \n",
       "322                                                                                                                                                                            This is our most desperate hour. Help us, Obi-Wan Kenobi. You're our only hope. #Covid_19 #StarWars #weneedaleader   \n",
       "329                                                                                                                                                              Face your fears....\\n#business #love #coronavirus #covid19 #nyc #ny #la #California #zoom #happy #prayer https://t.co/idDV3bpkUr   \n",
       "340  First Defense Nasal Screen coming up on @ABCSharkTank during the #Covid_19 outbreak and all of a sudden the guy doesn’t seem crazy.\\n\\nSharks redeemed themselves w/ mega-offers.\\n\\nPost Corona-airing, @mcuban @TheSharkDaymond @kevinolearytv is gonna make a killing. Replaces mask-need   \n",
       "\n",
       "    country_code  account_lang  verified lang  \n",
       "141           US           NaN     False   en  \n",
       "234           US           NaN     False   en  \n",
       "263           US           NaN     False   en  \n",
       "273           US           NaN      True   en  \n",
       "276           US           NaN      True   en  \n",
       "278           US           NaN      True   en  \n",
       "290           US           NaN     False   en  \n",
       "322           US           NaN     False   en  \n",
       "329           US           NaN     False   en  \n",
       "340           US           NaN     False   en  "
      ]
     },
     "execution_count": 31,
     "metadata": {},
     "output_type": "execute_result"
    }
   ],
   "source": [
    "eng_us_df.head(10)"
   ]
  },
  {
   "cell_type": "code",
   "execution_count": 9,
   "id": "908cc28a",
   "metadata": {},
   "outputs": [
    {
     "data": {
      "text/plain": [
       "141                                                                                                                                                                                                                     ....#SUNDAYFUNDAY #coronavirus style #vino cheers 🍷 https://t.co/SrymChBkq2\n",
       "234                                                                                                    This pandemic has confirmed my worst fears, most people don’t know how to make entertaining videos. #Covid_19 #SinceIveBeenQuarantined #AmericasUnfunniestVideos #WrestleMania #tonyaharding\n",
       "263                                                                                                                                                                                                    Is this true? \\nhttps://t.co/Xj2zdFe7ab\\n#EcuadorEnEmergencia #Covid_19 #CoronavirusPandemic\n",
       "273                                          Many us thought it was Wuhan province, but it could never be us. Then it was Italy, but it could never be us. Now it is here. One #NewYorker died every 12 minutes from #COVID19 over this weekend. Absolutely devastating.\\n\\nhttps://t.co/h5woMTfSCH\n",
       "276                                                                                                                                                                                                                                                   Ah #coronavirus humor https://t.co/1yXAZXNIgz\n",
       "278                                                                                                                                                             Miami and South Florida in general are also staying home.\\n\\nNorth Florida thinks their immune to #COVID19. https://t.co/OiPfVqyMvC\n",
       "290                                                  How can President Trump be flip about a question about continuity of power and contracting the #coronavirus? “When I am around him I don’t breathe”? And we wonder why other Americans question and defy the quarantine. #CoronavirusTaskForce\n",
       "322                                                                                                                                                                              This is our most desperate hour. Help us, Obi-Wan Kenobi. You're our only hope. #Covid_19 #StarWars #weneedaleader\n",
       "329                                                                                                                                                                Face your fears....\\n#business #love #coronavirus #covid19 #nyc #ny #la #California #zoom #happy #prayer https://t.co/idDV3bpkUr\n",
       "340    First Defense Nasal Screen coming up on @ABCSharkTank during the #Covid_19 outbreak and all of a sudden the guy doesn’t seem crazy.\\n\\nSharks redeemed themselves w/ mega-offers.\\n\\nPost Corona-airing, @mcuban @TheSharkDaymond @kevinolearytv is gonna make a killing. Replaces mask-need\n",
       "Name: text, dtype: object"
      ]
     },
     "execution_count": 9,
     "metadata": {},
     "output_type": "execute_result"
    }
   ],
   "source": [
    "eng_us_df['text'].head(10)"
   ]
  },
  {
   "cell_type": "code",
   "execution_count": 32,
   "id": "44472a97",
   "metadata": {},
   "outputs": [],
   "source": [
    "# #save cleaned df as tweet_df\n",
    "\n",
    "# tweet_df = eng_us_df \n",
    "# tweet_df.to_pickle('coronavirus_tweets_df.pkl')\n",
    "# tweet_df.to_csv(r'//Users/sandraparedes/Documents/GitHub/metis_dsml/05_nlp/g00-nlp-project/data/coronavirus_tweets_df.csv', index=False)\n",
    "\n",
    "#read df in\n",
    "df = pd.read_csv('coronavirus_tweets_df.csv')"
   ]
  },
  {
   "cell_type": "code",
   "execution_count": null,
   "id": "a70c5692",
   "metadata": {},
   "outputs": [],
   "source": []
  },
  {
   "cell_type": "code",
   "execution_count": null,
   "id": "01acc6aa",
   "metadata": {},
   "outputs": [],
   "source": []
  },
  {
   "cell_type": "code",
   "execution_count": null,
   "id": "acbc68d1",
   "metadata": {},
   "outputs": [],
   "source": []
  },
  {
   "cell_type": "code",
   "execution_count": null,
   "id": "c26cc38a",
   "metadata": {},
   "outputs": [],
   "source": []
  },
  {
   "cell_type": "code",
   "execution_count": null,
   "id": "ca8ca431",
   "metadata": {},
   "outputs": [],
   "source": []
  },
  {
   "cell_type": "code",
   "execution_count": null,
   "id": "e67d0fb6",
   "metadata": {},
   "outputs": [],
   "source": []
  },
  {
   "cell_type": "code",
   "execution_count": null,
   "id": "d2caa5e9",
   "metadata": {},
   "outputs": [],
   "source": []
  },
  {
   "cell_type": "code",
   "execution_count": null,
   "id": "408f5997",
   "metadata": {},
   "outputs": [],
   "source": []
  }
 ],
 "metadata": {
  "kernelspec": {
   "display_name": "Python 3 (ipykernel)",
   "language": "python",
   "name": "python3"
  },
  "language_info": {
   "codemirror_mode": {
    "name": "ipython",
    "version": 3
   },
   "file_extension": ".py",
   "mimetype": "text/x-python",
   "name": "python",
   "nbconvert_exporter": "python",
   "pygments_lexer": "ipython3",
   "version": "3.8.12"
  }
 },
 "nbformat": 4,
 "nbformat_minor": 5
}

{
 "cells": [
  {
   "cell_type": "markdown",
   "id": "848a7d01",
   "metadata": {},
   "source": [
    "#### NLP | Summary\n",
    "\n",
    "# Coronavirus Tweets: April 2020<a id='top'></a> "
   ]
  },
  {
   "cell_type": "markdown",
   "id": "47e2929e",
   "metadata": {},
   "source": [
    "## Abstract\n",
    " \n",
    "\n",
    "## Design\n",
    "\n",
    "At the start of the COVID-19 pandemic, [Twitter](https://www.ncbi.nlm.nih.gov/pmc/articles/PMC7170811/) became a forum for sharing information, opionns, misinformation, and disinformation. It's possible that the lack of clear communication from the Centers for Disease Control and Prevention may have led to people not adhering to best practices to control the spread of infection.  \n",
    "\n",
    "**Lit Review:**<br/>\n",
    "1. The Twitter pandemic: The critical role of Twitter in the dissemination of medical information and misinformation during the COVID-19 pandemic\n",
    "https://www.ncbi.nlm.nih.gov/pmc/articles/PMC7170811\n",
    "\n",
    "2. Public Perception of the COVID-19 Pandemic on Twitter: Sentiment Analysis and Topic Modeling Study https://www.ncbi.nlm.nih.gov/pmc/articles/PMC7661106/\n",
    "\n",
    "3. The vital role of Twitter in responding to Covid https://www.brookings.edu/blog/techtank/2022/01/04/the-vital-role-of-twitter-in-responding-to-covid/\n",
    "\n",
    "4. Predicting the popularity of tweets by analyzing public opinion and emotions in different stages of Covid-19 pandemic https://www.sciencedirect.com/science/article/pii/S266709682100046X \n",
    "\n",
    "5. Twitter study tracks early days of COVID-19 pandemic in U.S. https://www.binghamton.edu/news/story/2415/twitter-study-tracks-early-days-of-covid-19-pandemic-in-u.s\n",
    "\n",
    "\n",
    "The client, the [Centers for Disease Control and Prevention](https://www.cdc.gov/coronavirus/2019-ncov/index.html) wants to understand what type of information spread via Twitter early on in the COVID-19 pandemic in the United States to better inform the communication strategy for future pandemics. The goal of this preliminary analysis is to explore what topics were in the April 2020 tweets. \n",
    "\n",
    "**Research Question:** What were Americans tweeting about coronavirus and COVID-19 in April 2020? <br/>\n",
    "**Impact Hypothesis:** Inform CDC's communication strategy for future pandemics.<br/>\n",
    "\n",
    "## Data\n",
    "\n",
    "Coronavirus COVID-19 Tweets [early](https://www.kaggle.com/datasets/smid80/coronavirus-covid19-tweets-early-april) and [late](https://www.kaggle.com/datasets/smid80/coronavirus-covid19-tweets-late-april) April 2020. \n",
    "\n",
    "The dataset (n= ) has ... <br/>\n",
    "\n",
    "## Algorithms\n",
    "\n",
    "* Building an unsupervised learning model including dimensionality reduction/topic modeling and/or clustering in Python is required. These methods may be integrated into a complete recommendation system. Methods should be carefully selected via a combination of use case analysis and empirical feedback (e.g. quality of topics produced)\n",
    "* Unsupervised modeling methods beyond those covered in the course are optional\n",
    "* Supervised modeling methods (not covered in the course) are also optional, and should not replace unsupervised methods as the primary focus of the project (consult with an instructor if in doubt)\n",
    "\n",
    "\n",
    "## Tools\n",
    "* Python, numpy, pandas, sklearn<br/>\n",
    "* NLTK, VaderSentiment<br/>\n",
    "\n",
    "## Communication\n",
    "\n",
    "Slides and code are available on https://github.com/slp22/nlp-project.\n",
    "<br/>\n",
    "<br/>\n",
    "<br/>"
   ]
  },
  {
   "cell_type": "markdown",
   "id": "02164368",
   "metadata": {},
   "source": [
    "[back to top](#top)"
   ]
  },
  {
   "cell_type": "markdown",
   "id": "10c9985c",
   "metadata": {},
   "source": [
    "#### Figure 1. \n",
    "### [Name]"
   ]
  },
  {
   "attachments": {},
   "cell_type": "markdown",
   "id": "2881d627",
   "metadata": {},
   "source": []
  },
  {
   "cell_type": "markdown",
   "id": "00d89ef8",
   "metadata": {},
   "source": [
    "#### Figure 2. \n",
    "### [Name]"
   ]
  },
  {
   "attachments": {},
   "cell_type": "markdown",
   "id": "f560bbda",
   "metadata": {},
   "source": []
  },
  {
   "cell_type": "markdown",
   "id": "cb335d3c",
   "metadata": {},
   "source": [
    "#### Figure 3. \n",
    "### [Name]"
   ]
  },
  {
   "attachments": {},
   "cell_type": "markdown",
   "id": "a4c7b2e2",
   "metadata": {},
   "source": []
  },
  {
   "cell_type": "markdown",
   "id": "1196ef18",
   "metadata": {},
   "source": [
    "#### Figure 4. \n",
    "### [Name]"
   ]
  },
  {
   "attachments": {},
   "cell_type": "markdown",
   "id": "c8bbb823",
   "metadata": {},
   "source": []
  },
  {
   "cell_type": "markdown",
   "id": "13df8146",
   "metadata": {},
   "source": [
    "[back to top](#top)"
   ]
  }
 ],
 "metadata": {
  "kernelspec": {
   "display_name": "Python 3 (ipykernel)",
   "language": "python",
   "name": "python3"
  },
  "language_info": {
   "codemirror_mode": {
    "name": "ipython",
    "version": 3
   },
   "file_extension": ".py",
   "mimetype": "text/x-python",
   "name": "python",
   "nbconvert_exporter": "python",
   "pygments_lexer": "ipython3",
   "version": "3.8.12"
  }
 },
 "nbformat": 4,
 "nbformat_minor": 5
}
